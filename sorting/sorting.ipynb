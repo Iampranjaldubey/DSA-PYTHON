{
 "cells": [
  {
   "cell_type": "markdown",
   "metadata": {},
   "source": [
    "# sorting"
   ]
  },
  {
   "cell_type": "code",
   "execution_count": null,
   "metadata": {},
   "outputs": [
    {
     "name": "stdout",
     "output_type": "stream",
     "text": [
      "[2, 3, 4, 5, 6]\n"
     ]
    }
   ],
   "source": [
    "def func(arr):\n",
    "    sorted_arr = [] \n",
    "    while arr:  \n",
    "        min_val = min(arr)  \n",
    "        sorted_arr.append(min_val) \n",
    "        arr.remove(min_val)  \n",
    "    return sorted_arr\n",
    "\n",
    "arr = [4, 5, 6, 3, 2]\n",
    "print(func(arr))  "
   ]
  },
  {
   "cell_type": "code",
   "execution_count": 6,
   "metadata": {},
   "outputs": [
    {
     "name": "stdout",
     "output_type": "stream",
     "text": [
      "3\n"
     ]
    },
    {
     "data": {
      "text/plain": [
       "[1, 1, 2, 3, 4]"
      ]
     },
     "execution_count": 6,
     "metadata": {},
     "output_type": "execute_result"
    }
   ],
   "source": [
    "#Bubble sort\n",
    "def bubble_sort(arr):\n",
    "    n=len(arr)\n",
    "    swap_count=0\n",
    "    for i in range (n):\n",
    "        swapped=False\n",
    "        for j in range (0,n-i-1):\n",
    "            if arr[j]>arr[j+1]:\n",
    "                arr[j],arr[j+1]=arr[j+1],arr[j]\n",
    "                swapped=True\n",
    "                swap_count+=1\n",
    "        if (swapped == False):\n",
    "            break\n",
    "    print(swap_count)\n",
    "    return arr\n",
    "arr=[1,2,3,4,1]\n",
    "bubble_sort(arr)"
   ]
  },
  {
   "cell_type": "code",
   "execution_count": 1,
   "metadata": {},
   "outputs": [
    {
     "data": {
      "text/plain": [
       "[1, 1, 2, 3, 4]"
      ]
     },
     "execution_count": 1,
     "metadata": {},
     "output_type": "execute_result"
    }
   ],
   "source": [
    "# selection sort\n",
    "def selection_sort(arr):\n",
    "    n=len(arr)\n",
    "    for i in range (n-1):\n",
    "        min_idx=i\n",
    "        for j in range (i+1,n):\n",
    "            if arr[min_idx]>arr[j]:\n",
    "                min_idx=j\n",
    "        arr[i],arr[min_idx]=arr[min_idx],arr[i]\n",
    "    return arr\n",
    "arr=[1,2,3,4,1]\n",
    "selection_sort(arr)\n",
    "\n"
   ]
  },
  {
   "cell_type": "code",
   "execution_count": null,
   "metadata": {},
   "outputs": [],
   "source": [
    "my_array = [64, 34, 25, 5, 22, 11, 90, 12]\n",
    "\n",
    "n = len(my_array)\n",
    "for i in range(n-1):\n",
    "    min_index = i\n",
    "    for j in range(i+1, n):\n",
    "        if my_array[j] < my_array[min_index]:\n",
    "            min_index = j\n",
    "    min_value = my_array.pop(min_index)\n",
    "    my_array.insert(i, min_value)\n",
    "\n",
    "print(\"Sorted array:\", my_array)  "
   ]
  },
  {
   "cell_type": "code",
   "execution_count": 8,
   "metadata": {},
   "outputs": [
    {
     "name": "stdout",
     "output_type": "stream",
     "text": [
      "[11, 12, 22, 25, 64]\n"
     ]
    }
   ],
   "source": [
    "def insertion_sort(arr):\n",
    "\n",
    "    for i in range (1,len(arr)):\n",
    "        key=arr[i]\n",
    "        j=i-1\n",
    "        while j>=0 and arr[j]>key:\n",
    "            arr[j + 1] = arr[j]\n",
    "            j -= 1\n",
    "        arr[j + 1] = key\n",
    "    return arr\n",
    "\n",
    "arr = [64, 25, 12, 22, 11]\n",
    "print(insertion_sort(arr))  \n"
   ]
  },
  {
   "cell_type": "code",
   "execution_count": 2,
   "metadata": {},
   "outputs": [
    {
     "data": {
      "text/plain": [
       "[0, 1, 2, 4, 6]"
      ]
     },
     "execution_count": 2,
     "metadata": {},
     "output_type": "execute_result"
    }
   ],
   "source": [
    "# merge sorting \n",
    "def merge_sort(arr):\n",
    "    if len(arr)<=1:\n",
    "        return arr\n",
    "    mid=len(arr)//2\n",
    "    left=merge_sort(arr[:mid])\n",
    "    right=merge_sort(arr[mid:])\n",
    "    return merged(left,right)\n",
    "def merged(left,right):\n",
    "    sorted_list=[]\n",
    "    i=j=0\n",
    "    while i < len(left) and j < len(right):\n",
    "        if left[i] < right[j]:\n",
    "            sorted_list.append(left[i])\n",
    "            i += 1\n",
    "        else:\n",
    "            sorted_list.append(right[j])\n",
    "            j += 1\n",
    "    sorted_list.extend(left[i:])\n",
    "    sorted_list.extend(right[j:])\n",
    "\n",
    "    return sorted_list\n",
    "\n",
    "merge_sort([2,4,1,6,0])"
   ]
  },
  {
   "cell_type": "code",
   "execution_count": null,
   "metadata": {},
   "outputs": [],
   "source": [
    "# Merge Sort without slicing (O(n log n))\n",
    "def merge_sort(arr):\n",
    "    def sort(arr, l, r):\n",
    "        if l >= r:\n",
    "            return\n",
    "        mid = (l + r) // 2\n",
    "        sort(arr, l, mid)\n",
    "        sort(arr, mid + 1, r)\n",
    "        merge(arr, l, mid, r)\n",
    "\n",
    "    def merge(arr, l, mid, r):\n",
    "        # temporary arrays\n",
    "        left = arr[l:mid+1]\n",
    "        right = arr[mid+1:r+1]\n",
    "\n",
    "        i = j = 0\n",
    "        k = l\n",
    "\n",
    "        # merge process\n",
    "        while i < len(left) and j < len(right):\n",
    "            if left[i] <= right[j]:\n",
    "                arr[k] = left[i]\n",
    "                i += 1\n",
    "            else:\n",
    "                arr[k] = right[j]\n",
    "                j += 1\n",
    "            k += 1\n",
    "\n",
    "        # copy leftovers\n",
    "        while i < len(left):\n",
    "            arr[k] = left[i]\n",
    "            i += 1\n",
    "            k += 1\n",
    "\n",
    "        while j < len(right):\n",
    "            arr[k] = right[j]\n",
    "            j += 1\n",
    "            k += 1\n",
    "\n",
    "    sort(arr, 0, len(arr) - 1)\n",
    "    return arr\n",
    "\n",
    "\n",
    "# Example\n",
    "print(merge_sort([2, 4, 1, 6, 0]))\n"
   ]
  },
  {
   "cell_type": "code",
   "execution_count": null,
   "metadata": {},
   "outputs": [
    {
     "data": {
      "text/plain": [
       "[2, 7, 9, 11, 15, 28, 29]"
      ]
     },
     "execution_count": 1,
     "metadata": {},
     "output_type": "execute_result"
    }
   ],
   "source": [
    "# implementation of quick sort in python using hoare partition scheme\n",
    "\n",
    "def swap(a, b, arr):\n",
    "    if a!=b:\n",
    "        tmp = arr[a]\n",
    "        arr[a] = arr[b]\n",
    "        arr[b] = tmp\n",
    "\n",
    "def quick_sort(arr, start, end):\n",
    "    if start < end:\n",
    "        pi = partition(arr, start, end)\n",
    "        quick_sort(arr, start, pi-1)\n",
    "        quick_sort(arr, pi+1, end)\n",
    "    return arr\n",
    "def partition(arr, start, end):\n",
    "    pivot_index = start\n",
    "    pivot_element = arr[pivot_index]\n",
    "\n",
    "    while start < end:\n",
    "        while start < len(arr) and arr[start] <= pivot_element:\n",
    "            start+=1\n",
    "\n",
    "        while arr[end] > pivot_element:\n",
    "            end-=1\n",
    "\n",
    "        if start < end:\n",
    "            swap(start, end, arr)\n",
    "\n",
    "    swap(pivot_index, end, arr)\n",
    "\n",
    "    return end\n",
    "\n",
    "elements=[11,9,29,7,2,15,28]\n",
    "quick_sort(elements,0,len(elements)-1)\n",
    "\n",
    "\n",
    "# if __name__ == '__main__':\n",
    "#     elements = [11,9,29,7,2,15,28]\n",
    "\n",
    "#     quick_sort(elements, 0, len(elements)-1)\n",
    "#     print(elements)\n",
    "\n",
    "#     tests = [\n",
    "#         [11,9,29,7,2,15,28],\n",
    "#         [3, 7, 9, 11],\n",
    "#         [25, 22, 21, 10],\n",
    "#         [29, 15, 28],\n",
    "#         [],\n",
    "#         [6]\n",
    "#     ]\n",
    "\n",
    "#     for elements in tests:\n",
    "#         quick_sort(elements, 0, len(elements)-1)\n",
    "#         print(f'sorted array: {elements}')\n",
    "\n"
   ]
  },
  {
   "cell_type": "code",
   "execution_count": null,
   "metadata": {},
   "outputs": [],
   "source": [
    "def max_heapify(arr, n, i):\n",
    "    \"\"\"\n",
    "    Ensure the subtree rooted at index `i` is a max-heap.\n",
    "    :param arr: List representing the heap.\n",
    "    :param n: Size of the heap.\n",
    "    :param i: Root index of the subtree.\n",
    "    \"\"\"\n",
    "    largest = i\n",
    "    left = 2 * i + 1\n",
    "    right = 2 * i + 2\n",
    "\n",
    "    # Check if left child exists and is greater than root\n",
    "    if left < n and arr[left] > arr[largest]:\n",
    "        largest = left\n",
    "\n",
    "    # Check if right child exists and is greater than current largest\n",
    "    if right < n and arr[right] > arr[largest]:\n",
    "        largest = right\n",
    "\n",
    "    # If largest is not root\n",
    "    if largest != i:\n",
    "        arr[i], arr[largest] = arr[largest], arr[i]  # Swap\n",
    "        max_heapify(arr, n, largest)  # Recursively heapify the affected subtree\n",
    "\n",
    "def heap_sort(arr):\n",
    "    \"\"\"\n",
    "    Perform Heap Sort (in-place) on a list.\n",
    "    :param arr: List of elements to be sorted.\n",
    "    \"\"\"\n",
    "    n = len(arr)\n",
    "\n",
    "    # Step 1: Build a max-heap\n",
    "    for i in range(n // 2 - 1, -1, -1):\n",
    "        max_heapify(arr, n, i)\n",
    "\n",
    "    # Step 2: Extract elements from heap one by one\n",
    "    for i in range(n - 1, 0, -1):\n",
    "        arr[0], arr[i] = arr[i], arr[0]  # Move current root to end\n",
    "        max_heapify(arr, i, 0)  # Heapify reduced heap\n",
    "\n",
    "# ✅ Example usage:\n",
    "if __name__ == \"__main__\":\n",
    "    arr = [12, 11, 13, 5, 6, 7]\n",
    "    print(\"Original array:\", arr)\n",
    "    heap_sort(arr)\n",
    "    print(\"Sorted array:\", arr)\n"
   ]
  }
 ],
 "metadata": {
  "kernelspec": {
   "display_name": "Python 3",
   "language": "python",
   "name": "python3"
  },
  "language_info": {
   "codemirror_mode": {
    "name": "ipython",
    "version": 3
   },
   "file_extension": ".py",
   "mimetype": "text/x-python",
   "name": "python",
   "nbconvert_exporter": "python",
   "pygments_lexer": "ipython3",
   "version": "3.13.1"
  }
 },
 "nbformat": 4,
 "nbformat_minor": 2
}
