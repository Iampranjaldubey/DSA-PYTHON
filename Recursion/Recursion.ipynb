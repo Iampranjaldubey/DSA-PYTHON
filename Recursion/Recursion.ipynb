{
 "cells": [
  {
   "cell_type": "code",
   "execution_count": 1,
   "metadata": {
    "id": "h9TNAzKYp6cG"
   },
   "outputs": [],
   "source": [
    "# Using another function in the return statement\n",
    "def func(listin):\n",
    "    return sum(listin)"
   ]
  },
  {
   "cell_type": "code",
   "execution_count": 1,
   "metadata": {
    "id": "NETQeCCBqNUR"
   },
   "outputs": [],
   "source": [
    "# Write a recursive function that takes a positive integer, n, as input and prints all the integers from this number up to 0 in descending order.\n",
    "def func0p(n):\n",
    "    print(n)\n",
    "    if n>0:\n",
    "      n = n-1\n",
    "      return func0p(n)\n"
   ]
  },
  {
   "cell_type": "code",
   "execution_count": 5,
   "metadata": {
    "id": "NvG0NODFswxv"
   },
   "outputs": [],
   "source": [
    "# Write a recursive function that takes an arbitrary integer, n, as input and prints all the integers from this number up to 0.\n",
    "def func0(n):\n",
    "  print(n)\n",
    "  if n>0:\n",
    "    n = n-1\n",
    "    return func0(n)\n",
    "  elif n<0:\n",
    "    n = n+1\n",
    "    return func0(n)\n"
   ]
  },
  {
   "cell_type": "code",
   "execution_count": 7,
   "metadata": {
    "id": "FOWHxNm9wW39"
   },
   "outputs": [],
   "source": [
    "# Find the sum of all integers from 1 to n (user input) using recursion.\n",
    "def func_sum(n):\n",
    "  if n>1:\n",
    "    return n + func_sum(n-1)\n",
    "  else:\n",
    "    return 1"
   ]
  },
  {
   "cell_type": "code",
   "execution_count": 9,
   "metadata": {
    "id": "be6hiJldvfVv"
   },
   "outputs": [],
   "source": [
    "# Given two integers, x and y, find x**y using recursion.\n",
    "def func_pow(x,y):\n",
    "  # if y is positive int\n",
    "  if y>=1:\n",
    "    y = y-1\n",
    "    return x*func_pow(x,y)\n",
    "  # if y is negative int\n",
    "  elif y<0:\n",
    "    y=y+1\n",
    "    return (1/x)*func_pow(x,y)\n",
    "  # if y=0\n",
    "  else:\n",
    "    return 1 "
   ]
  },
  {
   "cell_type": "code",
   "execution_count": 11,
   "metadata": {},
   "outputs": [],
   "source": [
    "# alternative function only calculates for +ve int\n",
    "def func_pow2(x,y):\n",
    "    if y==0:\n",
    "        return 1\n",
    "    else:\n",
    "        return x*func_pow2(x,y-1)"
   ]
  },
  {
   "cell_type": "code",
   "execution_count": 13,
   "metadata": {
    "id": "DsHIYUyI0i4x"
   },
   "outputs": [],
   "source": [
    "# Find the factorial of n using recursion.\n",
    "def func_fact(n):\n",
    "  if n>1:\n",
    "\n",
    "    return n*func_fact(n-1)\n",
    "  \n",
    "  else:\n",
    "    \n",
    "    return 1"
   ]
  },
  {
   "cell_type": "code",
   "execution_count": 1,
   "metadata": {
    "id": "CM2DFXtF1A7p"
   },
   "outputs": [
    {
     "data": {
      "text/plain": [
       "[0, 1, 1, 2, 3, 5, 8, 13, 21, 34]"
      ]
     },
     "execution_count": 1,
     "metadata": {},
     "output_type": "execute_result"
    }
   ],
   "source": [
    "# Find the first n terms of Fibonacci series using recursion.\n",
    "def func_fibo(n):\n",
    "  if n == 1:\n",
    "    return [0]\n",
    "  elif n == 2:\n",
    "    return [0,1]\n",
    "  else:\n",
    "    fibo_list = func_fibo(n-1)\n",
    "    fibo_list.append(fibo_list[-1]+fibo_list[-2])\n",
    "    return fibo_list\n",
    "  \n",
    "func_fibo(10)"
   ]
  },
  {
   "cell_type": "code",
   "execution_count": 16,
   "metadata": {
    "id": "XDgBLHUd6Ms0"
   },
   "outputs": [],
   "source": [
    "# Find the length of a list of numbers using recursion.\n",
    "def func_len(listin):\n",
    "  if listin:\n",
    "    return 1 + func_len(listin[1:])\n",
    "  else:\n",
    "    return 0"
   ]
  },
  {
   "cell_type": "code",
   "execution_count": 17,
   "metadata": {
    "id": "y-AGe1Q8uHH-"
   },
   "outputs": [],
   "source": [
    "# Find the sum of a list of numbers using recursion.\n",
    "def func_sum(listin):\n",
    "  if listin:\n",
    "    return listin[0]+ func_sum(listin[1:])\n",
    "  else:\n",
    "    return 0"
   ]
  },
  {
   "cell_type": "code",
   "execution_count": null,
   "metadata": {
    "id": "NGKmXiN47Bai"
   },
   "outputs": [
    {
     "data": {
      "text/plain": [
       "True"
      ]
     },
     "execution_count": 2,
     "metadata": {},
     "output_type": "execute_result"
    }
   ],
   "source": [
    "# Write a recursive python function that takes a string as input and checks if its a palindrome.\n",
    "def is_palindrome(s):\n",
    "\n",
    "    if len(s) <= 1:\n",
    "        return True\n",
    "    if s[0] == s[-1]:\n",
    "        return is_palindrome(s[1:-1])\n",
    "    return False\n",
    "is_palindrome(\"saas\")"
   ]
  },
  {
   "cell_type": "code",
   "execution_count": 5,
   "metadata": {},
   "outputs": [
    {
     "name": "stdout",
     "output_type": "stream",
     "text": [
      "55\n"
     ]
    }
   ],
   "source": [
    "# function to find nth fibonacci number\n",
    "def func_fibo(n):\n",
    "    if n<=1:\n",
    "        return n\n",
    "    else:\n",
    "        return func_fibo(n-1)+func_fibo(n-2)\n",
    "n=10\n",
    "print(func_fibo(n))\n",
    "    "
   ]
  },
  {
   "cell_type": "code",
   "execution_count": 7,
   "metadata": {},
   "outputs": [
    {
     "data": {
      "text/plain": [
       "6"
      ]
     },
     "execution_count": 7,
     "metadata": {},
     "output_type": "execute_result"
    }
   ],
   "source": [
    "# python function to calculate GCD of two numbers \n",
    "def func_gcd(a,b):\n",
    "    if b==0:\n",
    "        return a\n",
    "    else:\n",
    "        return func_gcd(b,a%b) \n",
    "\n",
    "func_gcd(6,0)"
   ]
  },
  {
   "cell_type": "code",
   "execution_count": 23,
   "metadata": {},
   "outputs": [],
   "source": [
    "def func_lcm(a,b):\n",
    "    return (a*b)//func_gcd(a,b)"
   ]
  },
  {
   "cell_type": "code",
   "execution_count": 24,
   "metadata": {},
   "outputs": [],
   "source": [
    "# function to calculate the sum of digits of a number \n",
    "def sum_digits(n):\n",
    "    if n==0:\n",
    "        return 0\n",
    "    return (n%10 + sum_digits(int(n/10)))\n",
    "\n"
   ]
  },
  {
   "cell_type": "code",
   "execution_count": 25,
   "metadata": {},
   "outputs": [
    {
     "data": {
      "text/plain": [
       "1.8333333333333333"
      ]
     },
     "execution_count": 25,
     "metadata": {},
     "output_type": "execute_result"
    }
   ],
   "source": [
    "# sum of harmonic series n terms \n",
    "def sum_harm(n):\n",
    "    if n==1:\n",
    "        return 1\n",
    "    else:\n",
    "        return (1/n)+sum_harm(n-1)\n",
    "n=3\n",
    "sum_harm(n)\n"
   ]
  },
  {
   "cell_type": "code",
   "execution_count": 8,
   "metadata": {},
   "outputs": [
    {
     "data": {
      "text/plain": [
       "True"
      ]
     },
     "execution_count": 8,
     "metadata": {},
     "output_type": "execute_result"
    }
   ],
   "source": [
    "def func(str1):\n",
    "    if len(str1)<=1:\n",
    "        return True\n",
    "\n",
    "    if str1[0]==str1[-1]:\n",
    "            return func(str1[1:-1])\n",
    "\n",
    "    return False\n",
    "func('saas')\n"
   ]
  },
  {
   "cell_type": "code",
   "execution_count": 27,
   "metadata": {},
   "outputs": [
    {
     "data": {
      "text/plain": [
       "True"
      ]
     },
     "execution_count": 27,
     "metadata": {},
     "output_type": "execute_result"
    }
   ],
   "source": [
    "def func(str1):\n",
    "    if len(str1)<=1:\n",
    "        return True\n",
    "    if str1[0]==str1[-1]:\n",
    "        return func(str1[1:-1])\n",
    "    return False\n",
    "func('tamat')\n"
   ]
  },
  {
   "cell_type": "code",
   "execution_count": null,
   "metadata": {},
   "outputs": [],
   "source": []
  },
  {
   "cell_type": "code",
   "execution_count": null,
   "metadata": {},
   "outputs": [],
   "source": []
  }
 ],
 "metadata": {
  "colab": {
   "provenance": []
  },
  "kernelspec": {
   "display_name": "Python 3",
   "name": "python3"
  },
  "language_info": {
   "codemirror_mode": {
    "name": "ipython",
    "version": 3
   },
   "file_extension": ".py",
   "mimetype": "text/x-python",
   "name": "python",
   "nbconvert_exporter": "python",
   "pygments_lexer": "ipython3",
   "version": "3.13.1"
  }
 },
 "nbformat": 4,
 "nbformat_minor": 0
}
