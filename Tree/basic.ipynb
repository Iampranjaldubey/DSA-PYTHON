{
 "cells": [
  {
   "cell_type": "code",
   "execution_count": 6,
   "id": "36cb5c12",
   "metadata": {},
   "outputs": [
    {
     "name": "stdout",
     "output_type": "stream",
     "text": [
      "10\n",
      "5\n",
      "15\n",
      "3\n",
      "7\n"
     ]
    }
   ],
   "source": [
    "class Node:\n",
    "    def __init__(self, data):\n",
    "        self.data = data        # Value of the node\n",
    "        self.left = None        # Left child\n",
    "        self.right = None       # Right child\n",
    "\n",
    "# Example usage:\n",
    "root = Node(10)\n",
    "root.left = Node(5)\n",
    "root.right = Node(15)\n",
    "root.left.left=Node(3)\n",
    "root.left.right=Node(7)\n",
    "print(root.data)         # 10\n",
    "print(root.left.data)    # 5\n",
    "print(root.right.data)   # 15\n",
    "print(root.left.left.data)\n",
    "print(root.left.right.data)\n"
   ]
  }
 ],
 "metadata": {
  "kernelspec": {
   "display_name": "Python 3",
   "language": "python",
   "name": "python3"
  },
  "language_info": {
   "codemirror_mode": {
    "name": "ipython",
    "version": 3
   },
   "file_extension": ".py",
   "mimetype": "text/x-python",
   "name": "python",
   "nbconvert_exporter": "python",
   "pygments_lexer": "ipython3",
   "version": "3.13.1"
  }
 },
 "nbformat": 4,
 "nbformat_minor": 5
}
