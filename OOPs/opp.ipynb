{
 "cells": [
  {
   "cell_type": "code",
   "execution_count": 1,
   "metadata": {},
   "outputs": [
    {
     "name": "stdout",
     "output_type": "stream",
     "text": [
      "piddi\n",
      "12\n",
      "canine\n"
     ]
    }
   ],
   "source": [
    "class Dog:\n",
    "    species='canine' # class atribute\n",
    "    def __init__(self,name,age):\n",
    "        self.name=name #instance atrribute\n",
    "        self.age=age  #instance atrribute\n",
    "#creating an object of the Dog class\n",
    "dog1=Dog('piddi',12)\n",
    "print(dog1.name)\n",
    "print(dog1.age)\n",
    "print(dog1.species)"
   ]
  },
  {
   "cell_type": "code",
   "execution_count": null,
   "metadata": {},
   "outputs": [
    {
     "name": "stdout",
     "output_type": "stream",
     "text": [
      "Canine\n",
      "Buddy\n",
      "Charlie\n",
      "Max\n",
      "Feline\n",
      "Feline\n"
     ]
    }
   ],
   "source": [
    "class Dog:\n",
    "\t# Class variable\n",
    "\tspecies = \"Canine\"\n",
    "\tdef __init__(self,name,age):\n",
    "\t\t#instance variable \n",
    "\t\tself.name=name\n",
    "\t\tself.age=age\n",
    "\n",
    "\n",
    "# Create objects\n",
    "dog1 = Dog(\"Buddy\", 3)\n",
    "dog2 = Dog(\"Charlie\", 5)\n",
    "\n",
    "# Access class and instance variables\n",
    "print(dog1.species)  # (Class variable)\n",
    "print(dog1.name) \t# (Instance variable)\n",
    "print(dog2.name) \t# (Instance variable)\n",
    "\n",
    "# Modify instance variables\n",
    "dog1.name = \"Max\"\n",
    "print(dog1.name) \t# (Updated instance variable)\n",
    "\n",
    "# Modify class variable\n",
    "Dog.species = \"Feline\"\n",
    "print(dog1.species)  # (Updated class variable)\n",
    "print(dog2.species)\n"
   ]
  },
  {
   "cell_type": "code",
   "execution_count": null,
   "metadata": {},
   "outputs": [
    {
     "name": "stdout",
     "output_type": "stream",
     "text": [
      "Area is: 6\n",
      "Perimeter is: 10\n"
     ]
    }
   ],
   "source": [
    "class Rectangle:\n",
    "    \"\"\"A class to represent a rectangle with methods to calculate area and perimeter.\"\"\"\n",
    "\n",
    "    def __init__(self, width, height):\n",
    "\n",
    "        self.width = width\n",
    "        self.height = height\n",
    "\n",
    "    def area(self):\n",
    "\n",
    "        area = self.width * self.height\n",
    "        return f\"Area is: {area}\"\n",
    "\n",
    "    def find_perimeter(self):\n",
    "\n",
    "        perimeter = 2 * (self.width + self.height)\n",
    "        return f\"Perimeter is: {perimeter}\"\n",
    "\n",
    "\n",
    "# Creating an instance of Rectangle\n",
    "r1 = Rectangle(2, 3)\n",
    "\n",
    "# Calling methods\n",
    "print(r1.area())          # Corrected method call\n",
    "print(r1.find_perimeter())  # Corrected method call"
   ]
  },
  {
   "cell_type": "code",
   "execution_count": null,
   "metadata": {},
   "outputs": [
    {
     "name": "stdout",
     "output_type": "stream",
     "text": [
      "Object created in __init__:  <__main__.Transaction object at 0x000001E18F4AF770>\n",
      "Object e1:  <__main__.Transaction object at 0x000001E18F4AF770>\n",
      "Rs. 5000 credited to Rohan\n",
      "Balance: 55000\n",
      "Object created in __init__:  <__main__.Transaction object at 0x000001E18F544F50>\n",
      "Object e2:  <__main__.Transaction object at 0x000001E18F544F50>\n"
     ]
    }
   ],
   "source": [
    "class Transaction:\n",
    "    \"\"\"A class to represent a bank transaction with credit, debit, and balance checking methods.\"\"\"\n",
    "\n",
    "    def __init__(self, name, account, balance):\n",
    "\n",
    "        self.name = name\n",
    "        self.account = account\n",
    "        self.balance = balance\n",
    "        print(\"Object created in __init__: \", self)\n",
    "\n",
    "    def credit(self, amount):\n",
    "\n",
    "        print(\"Rs.\", amount, \"credited to\", self.name)\n",
    "        self.balance += amount\n",
    "\n",
    "    def debit(self, amount):\n",
    "\n",
    "        print(\"Rs.\", amount, \"debited\") \n",
    "        self.balance -= amount\n",
    "\n",
    "    def get_balance(self):\n",
    "\n",
    "        return f\"Balance: {self.balance}\"\n",
    "\n",
    "\n",
    "# Creating an instance of Transaction\n",
    "e1 = Transaction(\"Rohan\", 11111, 50000)\n",
    "print(\"Object e1: \", e1)\n",
    "e1.credit(5000)\n",
    "print(e1.get_balance())  # Fixed function call and added print to display output\n",
    "\n",
    "e2 = Transaction(\"Sahil\", 12341, 60000)\n",
    "print(\"Object e2: \", e2)\n"
   ]
  }
 ],
 "metadata": {
  "kernelspec": {
   "display_name": "Python 3",
   "language": "python",
   "name": "python3"
  },
  "language_info": {
   "codemirror_mode": {
    "name": "ipython",
    "version": 3
   },
   "file_extension": ".py",
   "mimetype": "text/x-python",
   "name": "python",
   "nbconvert_exporter": "python",
   "pygments_lexer": "ipython3",
   "version": "3.13.1"
  }
 },
 "nbformat": 4,
 "nbformat_minor": 2
}
