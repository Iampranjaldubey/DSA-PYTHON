{
 "cells": [
  {
   "cell_type": "code",
   "execution_count": null,
   "metadata": {},
   "outputs": [
    {
     "name": "stdout",
     "output_type": "stream",
     "text": [
      "45\n"
     ]
    }
   ],
   "source": [
    "\n",
    "class Solution:\n",
    "    def getSecondLargest(self, arr):\n",
    "        if len(arr) < 2:  # If array has less than 2 elements, return -1\n",
    "            return -1  \n",
    "\n",
    "        largest = second = float('-inf')  # Use float('-inf') instead of -inf\n",
    "\n",
    "        for num in arr:\n",
    "            if num > largest:  # Found a new largest\n",
    "                second = largest\n",
    "                largest = num\n",
    "            elif num > second and num != largest:  # Found a distinct second largest\n",
    "                second = num\n",
    "\n",
    "        return second if second != float('-inf') else -1  # Return -1 if no valid second largest\n",
    "\n",
    "# Example usage\n",
    "sol = Solution()\n",
    "arr = [10, 20, 4, 45, 99]\n",
    "print(sol.getSecondLargest(arr))  # Output: 45\n"
   ]
  },
  {
   "cell_type": "code",
   "execution_count": null,
   "metadata": {},
   "outputs": [
    {
     "data": {
      "text/plain": [
       "[0, 2, 3, 4, 0, 0]"
      ]
     },
     "execution_count": 2,
     "metadata": {},
     "output_type": "execute_result"
    }
   ],
   "source": [
    "def pushZerosToEnd(arr):\n",
    "    count = 0  # Count of non-zero elements\n",
    "\n",
    "    for i in range(len(arr)):\n",
    "        if arr[i] != 0:\n",
    "            arr[count] = arr[i]  # Move non-zero elements forward\n",
    "            count += 1\n",
    "\n",
    "    # Fill the remaining positions with zero\n",
    "    while count < len(arr):\n",
    "        arr[count] = 0\n",
    "        count += 1\n",
    "\n",
    "    return arr\n",
    "\n",
    "print(pushZerosToEnd([0, 1, 9, 8, 4, 0, 0, 2, 7, 0, 6, 0, 9]))  \n",
    "# Output: [1, 9, 8, 4, 2, 7, 6, 9, 0, 0, 0, 0, 0]\n"
   ]
  },
  {
   "cell_type": "code",
   "execution_count": null,
   "metadata": {},
   "outputs": [],
   "source": [
    "def pushZerosToEnd(arr):\n",
    "    non_zero_index = 0  # Pointer to track position of non-zero elements\n",
    "\n",
    "    for i in range(len(arr)):\n",
    "        if arr[i] != 0:\n",
    "            arr[non_zero_index], arr[i] = arr[i], arr[non_zero_index]\n",
    "            non_zero_index += 1  # Move pointer\n",
    "\n",
    "    return arr  # Return modified array\n",
    "\n",
    "# Example usage\n",
    "print(pushZerosToEnd([0, 0, 0, 2, 3, 4]))  # Output: [2, 3, 4, 0, 0, 0]\n"
   ]
  },
  {
   "cell_type": "code",
   "execution_count": null,
   "metadata": {},
   "outputs": [],
   "source": [
    "\n",
    "def pushZerosToEnd(arr):\n",
    "    return [num for num in arr if num != 0] + [0] * arr.count(0)\n",
    "\n",
    "print(pushZerosToEnd([0, 1, 9, 8, 4, 0, 0, 2, 7, 0, 6, 0, 9]))  \n",
    "# Output: [1, 9, 8, 4, 2, 7, 6, 9, 0, 0, 0, 0, 0]\n"
   ]
  },
  {
   "cell_type": "code",
   "execution_count": null,
   "metadata": {},
   "outputs": [],
   "source": [
    "from collections import deque\n",
    "\n",
    "def pushZerosToEnd(arr):\n",
    "    queue = deque()\n",
    "    \n",
    "    for num in arr:\n",
    "        if num != 0:\n",
    "            queue.append(num)\n",
    "\n",
    "    zero_count = len(arr) - len(queue)\n",
    "    return list(queue) + [0] * zero_count\n",
    "\n",
    "print(pushZerosToEnd([0, 1, 9, 8, 4, 0, 0, 2, 7, 0, 6, 0, 9]))  \n",
    "# Output: [1, 9, 8, 4, 2, 7, 6, 9, 0, 0, 0, 0, 0]\n"
   ]
  },
  {
   "cell_type": "code",
   "execution_count": null,
   "metadata": {},
   "outputs": [],
   "source": [
    "def pushZerosToEnd(arr, index=0, zero_count=0):\n",
    "    if index == len(arr):  # Base case\n",
    "        return arr + [0] * zero_count\n",
    "\n",
    "    if arr[index] == 0:\n",
    "        zero_count += 1\n",
    "        arr.pop(index)\n",
    "        return pushZerosToEnd(arr, index, zero_count)  # Recurse without increasing index\n",
    "    else:\n",
    "        return pushZerosToEnd(arr, index + 1, zero_count)  # Move to next element\n",
    "\n",
    "print(pushZerosToEnd([0, 1, 9, 8, 4, 0, 0, 2, 7, 0, 6, 0, 9]))  \n",
    "# Output: [1, 9, 8, 4, 2, 7, 6, 9, 0, 0, 0, 0, 0]\n"
   ]
  },
  {
   "cell_type": "code",
   "execution_count": 5,
   "metadata": {},
   "outputs": [
    {
     "name": "stdout",
     "output_type": "stream",
     "text": [
      "[1, 9, 8, 4, 2, 7, 6, 9, 0, 0, 0, 0, 0]\n"
     ]
    }
   ],
   "source": [
    "def func(arr):\n",
    "    non_zeros = [num for num in arr if num != 0]  # Collect non-zero elements\n",
    "    zero_count = len(arr) - len(non_zeros)  # Count zeros\n",
    "    return non_zeros + [0] * zero_count  # Append zeros at the end\n",
    "\n",
    "print(func([0, 1, 9, 8, 4, 0, 0, 2, 7, 0, 6, 0, 9]))  \n",
    "# Output: [1, 9, 8, 4, 2, 7, 6, 9, 0, 0, 0, 0, 0]\n"
   ]
  },
  {
   "cell_type": "code",
   "execution_count": null,
   "metadata": {},
   "outputs": [
    {
     "name": "stdout",
     "output_type": "stream",
     "text": [
      "[4, 3, 2, 1]\n"
     ]
    }
   ],
   "source": [
    "def reverse(arr):\n",
    "    lst=[]\n",
    "    for i in (arr[::-1]):\n",
    "        lst.append(i)\n",
    "    return lst\n",
    "print(reverse([1,2,3,4]))"
   ]
  },
  {
   "cell_type": "code",
   "execution_count": 2,
   "metadata": {},
   "outputs": [
    {
     "name": "stdout",
     "output_type": "stream",
     "text": [
      "[4, 3, 2, 1]\n"
     ]
    }
   ],
   "source": [
    "def func(arr):\n",
    "    for i in range (len(arr)):\n",
    "        a=arr.pop()\n",
    "        arr.insert(i,a)\n",
    "    return arr\n",
    "print(func([1,2,3,4]))\n"
   ]
  },
  {
   "cell_type": "code",
   "execution_count": 6,
   "metadata": {},
   "outputs": [
    {
     "name": "stdout",
     "output_type": "stream",
     "text": [
      "[3, 4, 5, 1, 2]\n"
     ]
    }
   ],
   "source": [
    "def rotate(arr,d):\n",
    "    for i in range (d):\n",
    "        a=arr.pop(0)\n",
    "        arr.append(a)\n",
    "    return arr\n",
    "print(rotate([1,2,3,4,5],2))\n"
   ]
  },
  {
   "cell_type": "code",
   "execution_count": 4,
   "metadata": {},
   "outputs": [
    {
     "name": "stdout",
     "output_type": "stream",
     "text": [
      "[3, 4, 5, 1, 2]\n"
     ]
    }
   ],
   "source": [
    "def rotateArr(arr, d):\n",
    "    n = len(arr)\n",
    "    d = d % n  # Handle cases where d > n\n",
    "    arr[:] = arr[d:] + arr[:d]  # Slicing method\n",
    "    return arr\n",
    "print(rotateArr([1,2,3,4,5],2))\n"
   ]
  }
 ],
 "metadata": {
  "kernelspec": {
   "display_name": "Python 3",
   "language": "python",
   "name": "python3"
  },
  "language_info": {
   "codemirror_mode": {
    "name": "ipython",
    "version": 3
   },
   "file_extension": ".py",
   "mimetype": "text/x-python",
   "name": "python",
   "nbconvert_exporter": "python",
   "pygments_lexer": "ipython3",
   "version": "3.13.1"
  }
 },
 "nbformat": 4,
 "nbformat_minor": 2
}
